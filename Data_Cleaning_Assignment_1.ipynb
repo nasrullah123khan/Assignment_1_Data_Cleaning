{
 "cells": [
  {
   "cell_type": "markdown",
   "id": "8561ed3a",
   "metadata": {},
   "source": [
    "# 1. Data Cleaning:"
   ]
  },
  {
   "cell_type": "markdown",
   "id": "adc27dfc",
   "metadata": {},
   "source": [
    "#### Scrape data from two e-commerce sites, and find one common product/SKU -- it can be any product, for example, a specific phone"
   ]
  },
  {
   "cell_type": "code",
   "execution_count": 125,
   "id": "5fb637e4",
   "metadata": {},
   "outputs": [],
   "source": [
    "from requests import get\n",
    "from bs4 import BeautifulSoup"
   ]
  },
  {
   "cell_type": "markdown",
   "id": "24d89dd4",
   "metadata": {},
   "source": [
    "### Flipkar e-commerce website"
   ]
  },
  {
   "cell_type": "code",
   "execution_count": 186,
   "id": "57646392",
   "metadata": {},
   "outputs": [],
   "source": [
    "flipkart_url = 'https://www.flipkart.com/realme-c51-carbon-black-64-gb/p/itm0e93bcb87927f?pid=MOBGGG2YKYPWPCNP&param=23213&ctx=eyJjYXJkQ29udGV4dCI6eyJhdHRyaWJ1dGVzIjp7InZhbHVlQ2FsbG91dCI6eyJtdWx0aVZhbHVlZEF0dHJpYnV0ZSI6eyJrZXkiOiJ2YWx1ZUNhbGxvdXQiLCJpbmZlcmVuY2VUeXBlIjoiVkFMVUVfQ0FMTE9VVCIsInZhbHVlcyI6WyJpbmNsIG9mIG9mZmVycyJdLCJ2YWx1ZVR5cGUiOiJNVUxUSV9WQUxVRUQifX0sInRpdGxlIjp7Im11bHRpVmFsdWVkQXR0cmlidXRlIjp7ImtleSI6InRpdGxlIiwiaW5mZXJlbmNlVHlwZSI6IlRJVExFIiwidmFsdWVzIjpbIlNhbXN1bmcgUzIyIDVHIl0sInZhbHVlVHlwZSI6Ik1VTFRJX1ZBTFVFRCJ9fSwiaGVyb1BpZCI6eyJzaW5nbGVWYWx1ZUF0dHJpYnV0ZSI6eyJrZXkiOiJoZXJvUGlkIiwiaW5mZXJlbmNlVHlwZSI6IlBJRCIsInZhbHVlIjoiTU9CR0dHMllLWVBXUENOUCIsInZhbHVlVHlwZSI6IlNJTkdMRV9WQUxVRUQifX19fX0%3D'"
   ]
  },
  {
   "cell_type": "code",
   "execution_count": 187,
   "id": "3028ef72",
   "metadata": {},
   "outputs": [],
   "source": [
    "response_flipkart = get(flipkart_url)"
   ]
  },
  {
   "cell_type": "code",
   "execution_count": 188,
   "id": "b08150ae",
   "metadata": {},
   "outputs": [],
   "source": [
    "html_soup_flipkart = BeautifulSoup(response_flipkart.text, 'html.parser')"
   ]
  },
  {
   "cell_type": "code",
   "execution_count": 189,
   "id": "eb13f6a0",
   "metadata": {},
   "outputs": [
    {
     "name": "stdout",
     "output_type": "stream",
     "text": [
      "The price of SAMSUNG Galaxy S22 is in Flipkart is:  ₹39,999\n"
     ]
    }
   ],
   "source": [
    "price_flipkart = html_soup_flipkart.find_all('div', class_ = '_30jeq3 _16Jk6d')\n",
    "[p.text for p in price_flipkart]\n",
    "print(\"The price of SAMSUNG Galaxy S22 is in Flipkart is: \", p)"
   ]
  },
  {
   "cell_type": "markdown",
   "id": "cc689555",
   "metadata": {},
   "source": [
    "### eBay e-commerce website"
   ]
  },
  {
   "cell_type": "code",
   "execution_count": 163,
   "id": "4a137cbd",
   "metadata": {},
   "outputs": [],
   "source": [
    "ebay_url = \"https://www.ebay.com/itm/186155000543?hash=item2b57b3e2df%3Ag%3ASrEAAOSwUVdlPTZC&amdata=enc%3AAQAIAAAA0EFnC5C2srGEkRohbtb%2BUOCorlZbZiK0vbMus4CilGCME57TQ8ozGOCv8FzYV6HjtRhFC6iwLgu3zJpT6NJZA6ZhboepOiTNk6xdrUQImEhPbIJ%2FQAQkD5i6WgDVSaJR%2FCYybwwzwOc1wMtAGx2n1D5YCuILWRxudbrW2BClu%2BLu%2FA%2FWybKpoE1%2FLGw5a2ypAgoANJo7NRhVaQWN6Re5OnZ4yyn56SAdw50cJwJmpS1g6kOLkav9BKyotsF62FeYkOg48WMNeRq4GNRFMSwAxNA%3D%7Ctkp%3ABk9SR5LO9LL1Yg&LH_Auction=1\""
   ]
  },
  {
   "cell_type": "code",
   "execution_count": 164,
   "id": "a45d6a8a",
   "metadata": {},
   "outputs": [],
   "source": [
    "response_ebay = get(ebay_url)"
   ]
  },
  {
   "cell_type": "code",
   "execution_count": 165,
   "id": "11425812",
   "metadata": {},
   "outputs": [],
   "source": [
    "html_soup_ebay = BeautifulSoup(response_ebay.text, 'html.parser')"
   ]
  },
  {
   "cell_type": "code",
   "execution_count": 215,
   "id": "812df548",
   "metadata": {},
   "outputs": [
    {
     "name": "stdout",
     "output_type": "stream",
     "text": [
      "EUR 201.00\n"
     ]
    }
   ],
   "source": [
    "price_ebay = html_soup_ebay.find_all('div', class_ = 'x-price-primary')\n",
    "for i in price_ebay:\n",
    "    print(i.text)"
   ]
  },
  {
   "cell_type": "markdown",
   "id": "e028c41b",
   "metadata": {},
   "source": [
    "#### Create a script to clean data using Pandas to check for duplicates and missing values."
   ]
  },
  {
   "cell_type": "code",
   "execution_count": null,
   "id": "6ed1b454",
   "metadata": {},
   "outputs": [],
   "source": [
    "import pandas as pd\n",
    "\n",
    "#create data frame \n",
    "df = pd.read_csv('example.csv')\n",
    "\n",
    "#check duplicates in the entire dataset\n",
    "duplicates = df[df.duplicated()]\n",
    "\n",
    "# Check for missing values in the entire DataFrame\n",
    "missing_values = df.isna()"
   ]
  },
  {
   "cell_type": "markdown",
   "id": "69667b68",
   "metadata": {},
   "source": [
    "#### Compare prices and recommend one e-commerce website for that product."
   ]
  },
  {
   "cell_type": "code",
   "execution_count": 224,
   "id": "37b371ab",
   "metadata": {},
   "outputs": [
    {
     "name": "stdout",
     "output_type": "stream",
     "text": [
      "136796.58\n"
     ]
    }
   ],
   "source": [
    "flip_curr = 3.42\n",
    "price_inr = p.replace('₹', '').replace(',', '')\n",
    "price_inr = float(price_inr)\n",
    "price_pkr_flip = price_inr*flip_curr\n",
    "print(price_pkr_flip)"
   ]
  },
  {
   "cell_type": "code",
   "execution_count": 223,
   "id": "dbd8bb7f",
   "metadata": {},
   "outputs": [
    {
     "name": "stdout",
     "output_type": "stream",
     "text": [
      "61240.68\n"
     ]
    }
   ],
   "source": [
    "ebay_curr = 304.68\n",
    "price_eur = price_ebay[0].text\n",
    "price_eur = price_eur.replace('EUR','')\n",
    "price_eur = float(price_eur)\n",
    "price_pkr_ebay = price_eur*ebay_curr\n",
    "print(price_pkr_ebay)"
   ]
  },
  {
   "cell_type": "code",
   "execution_count": 236,
   "id": "e776cf65",
   "metadata": {},
   "outputs": [
    {
     "name": "stdout",
     "output_type": "stream",
     "text": [
      "I recommend eBay due to the lower price\n"
     ]
    }
   ],
   "source": [
    "price_pkr_ebay,price_pkr_flip\n",
    "\n",
    "if price_pkr_flip < price_pkr_ebay:\n",
    "    print(\"I recommend Flipkart due to the lower price\")\n",
    "elif price_pkr_ebay < price_pkr_flip:\n",
    "    print(\"I recommend eBay due to the lower price\")\n",
    "else:\n",
    "    print(\"Prices on Flipkart and eBay are the same\")"
   ]
  },
  {
   "cell_type": "code",
   "execution_count": null,
   "id": "d2c2b04d",
   "metadata": {},
   "outputs": [],
   "source": []
  }
 ],
 "metadata": {
  "kernelspec": {
   "display_name": "Python 3 (ipykernel)",
   "language": "python",
   "name": "python3"
  },
  "language_info": {
   "codemirror_mode": {
    "name": "ipython",
    "version": 3
   },
   "file_extension": ".py",
   "mimetype": "text/x-python",
   "name": "python",
   "nbconvert_exporter": "python",
   "pygments_lexer": "ipython3",
   "version": "3.11.5"
  }
 },
 "nbformat": 4,
 "nbformat_minor": 5
}
